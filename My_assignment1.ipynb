{
  "nbformat": 4,
  "nbformat_minor": 0,
  "metadata": {
    "colab": {
      "name": "My assignment1.ipynb",
      "provenance": [],
      "collapsed_sections": []
    },
    "kernelspec": {
      "name": "python3",
      "display_name": "Python 3"
    }
  },
  "cells": [
    {
      "cell_type": "code",
      "metadata": {
        "id": "eeZPteDaecc3",
        "outputId": "65355b86-0b02-4f95-a0f0-7d29fb04aecc",
        "colab": {
          "base_uri": "https://localhost:8080/"
        }
      },
      "source": [
        "from collections import Counter\n",
        "data=[float(i) for i in input().split()]\n",
        "n=len(data)\n",
        "mean=sum(data)/n\n",
        "print(\"Mean = \",mean)\n",
        "#calculation of median\n",
        "temp=data.copy()\n",
        "temp=sorted(temp)\n",
        "if n%2!=0:\n",
        "  print(\"Median = \",temp[n//2])\n",
        "else:\n",
        "  median=(temp[n//2]+temp[n//2+1])/2\n",
        "  print(\"Median = \",median)\n",
        "#calculation of mode\n",
        "cnt=Counter(data)\n",
        "maxi=max(cnt.items(),key= lambda x:x[1])[1]\n",
        "print(maxi)\n",
        "mode=[]\n",
        "for each in cnt.items():\n",
        "  if each[1]==maxi:\n",
        "    mode.append(each[0])\n",
        "    print(\"each[0] = \",each[0]) \n",
        "if len(mode)==n:\n",
        "  print(\"Not found\")\n",
        "else:\n",
        "  print(\"Mode = \",mode)"
      ],
      "execution_count": 2,
      "outputs": [
        {
          "output_type": "stream",
          "text": [
            "4 6 3 2 7 5 4 3 12 30 10 60\n",
            "Mean =  12.166666666666666\n",
            "Median =  6.5\n",
            "2\n",
            "each[0] =  4.0\n",
            "each[0] =  3.0\n",
            "Mode =  [4.0, 3.0]\n"
          ],
          "name": "stdout"
        }
      ]
    },
    {
      "cell_type": "code",
      "metadata": {
        "id": "w66OMtExhDBx",
        "outputId": "d9dccc76-85fd-48be-e550-3370ded27883",
        "colab": {
          "base_uri": "https://localhost:8080/"
        }
      },
      "source": [
        "#calculation of variance\n",
        "data=[float(i) for i in input().split()]\n",
        "n=len(data)\n",
        "mean=sum(data)/n\n",
        "sum1=0\n",
        "for e in data:\n",
        "  sum1+=(e-mean)**2\n",
        "variance=sum1/n\n",
        "print('Variance = ',variance)\n",
        "#calculation of standard deviation\n",
        "std=variance**(0.5)\n",
        "print(\"Standard Deviation = \",std)"
      ],
      "execution_count": 3,
      "outputs": [
        {
          "output_type": "stream",
          "text": [
            "25 10 30 205\n",
            "Variance =  6356.25\n",
            "Standard Deviation =  79.72609359550987\n"
          ],
          "name": "stdout"
        }
      ]
    },
    {
      "cell_type": "code",
      "metadata": {
        "id": "mZisZmwLiKSA",
        "outputId": "bfe3b1e1-dc40-4420-8965-babf1ba796d3",
        "colab": {
          "base_uri": "https://localhost:8080/"
        }
      },
      "source": [
        "#program to check a string is pallindrome or not\n",
        "s=input()\n",
        "if (s==s[::-1]):\n",
        "  print('YES')\n",
        "else:\n",
        "  print('NO')"
      ],
      "execution_count": 4,
      "outputs": [
        {
          "output_type": "stream",
          "text": [
            "jasmin\n",
            "NO\n"
          ],
          "name": "stdout"
        }
      ]
    },
    {
      "cell_type": "code",
      "metadata": {
        "id": "MkMrhzpuigYj",
        "outputId": "0e821ea5-956e-4545-8977-7e84a27dc3c2",
        "colab": {
          "base_uri": "https://localhost:8080/"
        }
      },
      "source": [
        "#program to find nth fibonacci number\n",
        "n=int(input())\n",
        "fibo=[0]*n\n",
        "fibo[0]=0;fibo[1]=1\n",
        "for i in range(2,n):\n",
        "  fibo[i]=fibo[i-1]+fibo[i-2]\n",
        "print(fibo[n-1])"
      ],
      "execution_count": 7,
      "outputs": [
        {
          "output_type": "stream",
          "text": [
            "4\n",
            "2\n"
          ],
          "name": "stdout"
        }
      ]
    },
    {
      "cell_type": "code",
      "metadata": {
        "id": "UOUaI8eNjAIb"
      },
      "source": [
        ""
      ],
      "execution_count": null,
      "outputs": []
    }
  ]
}